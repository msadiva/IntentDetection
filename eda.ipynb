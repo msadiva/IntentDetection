{
 "cells": [
  {
   "cell_type": "code",
   "execution_count": 1,
   "metadata": {},
   "outputs": [],
   "source": [
    "import os \n",
    "import pandas as pd \n",
    "from openai import OpenAI\n",
    "import random\n",
    "import numpy as np\n",
    "\n",
    "## set global random seed\n",
    "RANDOM_SEED = 62\n",
    "\n",
    "random.seed(RANDOM_SEED)\n",
    "np.random.seed(RANDOM_SEED)\n",
    "\n"
   ]
  },
  {
   "cell_type": "code",
   "execution_count": 2,
   "metadata": {},
   "outputs": [
    {
     "data": {
      "text/html": [
       "<div>\n",
       "<style scoped>\n",
       "    .dataframe tbody tr th:only-of-type {\n",
       "        vertical-align: middle;\n",
       "    }\n",
       "\n",
       "    .dataframe tbody tr th {\n",
       "        vertical-align: top;\n",
       "    }\n",
       "\n",
       "    .dataframe thead th {\n",
       "        text-align: right;\n",
       "    }\n",
       "</style>\n",
       "<table border=\"1\" class=\"dataframe\">\n",
       "  <thead>\n",
       "    <tr style=\"text-align: right;\">\n",
       "      <th></th>\n",
       "      <th>sentence</th>\n",
       "      <th>label</th>\n",
       "    </tr>\n",
       "  </thead>\n",
       "  <tbody>\n",
       "    <tr>\n",
       "      <th>0</th>\n",
       "      <td>You guys provide EMI option?</td>\n",
       "      <td>EMI</td>\n",
       "    </tr>\n",
       "    <tr>\n",
       "      <th>1</th>\n",
       "      <td>Do you offer Zero Percent EMI payment options?</td>\n",
       "      <td>EMI</td>\n",
       "    </tr>\n",
       "    <tr>\n",
       "      <th>2</th>\n",
       "      <td>0% EMI.</td>\n",
       "      <td>EMI</td>\n",
       "    </tr>\n",
       "    <tr>\n",
       "      <th>3</th>\n",
       "      <td>EMI</td>\n",
       "      <td>EMI</td>\n",
       "    </tr>\n",
       "    <tr>\n",
       "      <th>4</th>\n",
       "      <td>I want in installment</td>\n",
       "      <td>EMI</td>\n",
       "    </tr>\n",
       "  </tbody>\n",
       "</table>\n",
       "</div>"
      ],
      "text/plain": [
       "                                         sentence label\n",
       "0                    You guys provide EMI option?   EMI\n",
       "1  Do you offer Zero Percent EMI payment options?   EMI\n",
       "2                                         0% EMI.   EMI\n",
       "3                                             EMI   EMI\n",
       "4                           I want in installment   EMI"
      ]
     },
     "execution_count": 2,
     "metadata": {},
     "output_type": "execute_result"
    }
   ],
   "source": [
    "## load data\n",
    "df = pd.read_csv(\"sofmattress_train.csv\")\n",
    "df.head()"
   ]
  },
  {
   "cell_type": "code",
   "execution_count": 3,
   "metadata": {},
   "outputs": [
    {
     "data": {
      "text/plain": [
       "label\n",
       "DISTRIBUTORS             34\n",
       "EMI                      25\n",
       "MATTRESS_COST            22\n",
       "LEAD_GEN                 21\n",
       "PRODUCT_VARIANTS         21\n",
       "ORDER_STATUS             21\n",
       "WHAT_SIZE_TO_ORDER       20\n",
       "100_NIGHT_TRIAL_OFFER    18\n",
       "ORTHO_FEATURES           17\n",
       "RETURN_EXCHANGE          14\n",
       "COD                      12\n",
       "COMPARISON               11\n",
       "ERGO_FEATURES            11\n",
       "ABOUT_SOF_MATTRESS       11\n",
       "DELAY_IN_DELIVERY        11\n",
       "CANCEL_ORDER             10\n",
       "PILLOWS                  10\n",
       "CHECK_PINCODE            10\n",
       "WARRANTY                 10\n",
       "OFFERS                   10\n",
       "SIZE_CUSTOMIZATION        9\n",
       "Name: count, dtype: int64"
      ]
     },
     "execution_count": 3,
     "metadata": {},
     "output_type": "execute_result"
    }
   ],
   "source": [
    "df[\"label\"].value_counts()\n"
   ]
  },
  {
   "cell_type": "code",
   "execution_count": 4,
   "metadata": {},
   "outputs": [
    {
     "data": {
      "text/plain": [
       "label\n",
       "DISTRIBUTORS             0.103659\n",
       "EMI                      0.076220\n",
       "MATTRESS_COST            0.067073\n",
       "LEAD_GEN                 0.064024\n",
       "PRODUCT_VARIANTS         0.064024\n",
       "ORDER_STATUS             0.064024\n",
       "WHAT_SIZE_TO_ORDER       0.060976\n",
       "100_NIGHT_TRIAL_OFFER    0.054878\n",
       "ORTHO_FEATURES           0.051829\n",
       "RETURN_EXCHANGE          0.042683\n",
       "COD                      0.036585\n",
       "COMPARISON               0.033537\n",
       "ERGO_FEATURES            0.033537\n",
       "ABOUT_SOF_MATTRESS       0.033537\n",
       "DELAY_IN_DELIVERY        0.033537\n",
       "CANCEL_ORDER             0.030488\n",
       "PILLOWS                  0.030488\n",
       "CHECK_PINCODE            0.030488\n",
       "WARRANTY                 0.030488\n",
       "OFFERS                   0.030488\n",
       "SIZE_CUSTOMIZATION       0.027439\n",
       "Name: proportion, dtype: float64"
      ]
     },
     "execution_count": 4,
     "metadata": {},
     "output_type": "execute_result"
    }
   ],
   "source": [
    "df[\"label\"].value_counts(normalize=True)"
   ]
  },
  {
   "cell_type": "code",
   "execution_count": 5,
   "metadata": {},
   "outputs": [
    {
     "name": "stdout",
     "output_type": "stream",
     "text": [
      "\n",
      "===== Cross-Validation Results =====\n",
      "\n",
      "Fold 1\n",
      "Logistic Regression F1 (macro): 0.8585\n"
     ]
    },
    {
     "name": "stderr",
     "output_type": "stream",
     "text": [
      "/Users/sadivamadaan/Downloads/Tifin_Test_1/data/tifin/lib/python3.11/site-packages/xgboost/training.py:183: UserWarning: [11:35:47] WARNING: /Users/runner/work/xgboost/xgboost/src/learner.cc:738: \n",
      "Parameters: { \"use_label_encoder\" } are not used.\n",
      "\n",
      "  bst.update(dtrain, iteration=i, fobj=obj)\n"
     ]
    },
    {
     "name": "stdout",
     "output_type": "stream",
     "text": [
      "XGBoost F1 (macro): 0.5812\n",
      "\n",
      "Fold 2\n",
      "Logistic Regression F1 (macro): 0.7928\n"
     ]
    },
    {
     "name": "stderr",
     "output_type": "stream",
     "text": [
      "/Users/sadivamadaan/Downloads/Tifin_Test_1/data/tifin/lib/python3.11/site-packages/xgboost/training.py:183: UserWarning: [11:35:48] WARNING: /Users/runner/work/xgboost/xgboost/src/learner.cc:738: \n",
      "Parameters: { \"use_label_encoder\" } are not used.\n",
      "\n",
      "  bst.update(dtrain, iteration=i, fobj=obj)\n"
     ]
    },
    {
     "name": "stdout",
     "output_type": "stream",
     "text": [
      "XGBoost F1 (macro): 0.6483\n",
      "\n",
      "Fold 3\n",
      "Logistic Regression F1 (macro): 0.7474\n"
     ]
    },
    {
     "name": "stderr",
     "output_type": "stream",
     "text": [
      "/Users/sadivamadaan/Downloads/Tifin_Test_1/data/tifin/lib/python3.11/site-packages/xgboost/training.py:183: UserWarning: [11:35:49] WARNING: /Users/runner/work/xgboost/xgboost/src/learner.cc:738: \n",
      "Parameters: { \"use_label_encoder\" } are not used.\n",
      "\n",
      "  bst.update(dtrain, iteration=i, fobj=obj)\n"
     ]
    },
    {
     "name": "stdout",
     "output_type": "stream",
     "text": [
      "XGBoost F1 (macro): 0.5329\n",
      "\n",
      "Fold 4\n",
      "Logistic Regression F1 (macro): 0.8336\n"
     ]
    },
    {
     "name": "stderr",
     "output_type": "stream",
     "text": [
      "/Users/sadivamadaan/Downloads/Tifin_Test_1/data/tifin/lib/python3.11/site-packages/xgboost/training.py:183: UserWarning: [11:35:50] WARNING: /Users/runner/work/xgboost/xgboost/src/learner.cc:738: \n",
      "Parameters: { \"use_label_encoder\" } are not used.\n",
      "\n",
      "  bst.update(dtrain, iteration=i, fobj=obj)\n"
     ]
    },
    {
     "name": "stdout",
     "output_type": "stream",
     "text": [
      "XGBoost F1 (macro): 0.6398\n",
      "\n",
      "Fold 5\n",
      "Logistic Regression F1 (macro): 0.7593\n"
     ]
    },
    {
     "name": "stderr",
     "output_type": "stream",
     "text": [
      "/Users/sadivamadaan/Downloads/Tifin_Test_1/data/tifin/lib/python3.11/site-packages/xgboost/training.py:183: UserWarning: [11:35:51] WARNING: /Users/runner/work/xgboost/xgboost/src/learner.cc:738: \n",
      "Parameters: { \"use_label_encoder\" } are not used.\n",
      "\n",
      "  bst.update(dtrain, iteration=i, fobj=obj)\n"
     ]
    },
    {
     "name": "stdout",
     "output_type": "stream",
     "text": [
      "XGBoost F1 (macro): 0.5742\n",
      "\n",
      "===== Average Scores =====\n",
      "Logistic Regression avg F1 (macro): 0.7983\n",
      "XGBoost avg F1 (macro): 0.5953\n"
     ]
    }
   ],
   "source": [
    "## baseline -> tf-idf + logistic regression, tf-idf + xgboost\n",
    "\n",
    "from sklearn.model_selection import StratifiedKFold\n",
    "from sklearn.feature_extraction.text import TfidfVectorizer\n",
    "from sklearn.linear_model import LogisticRegression\n",
    "from xgboost import XGBClassifier\n",
    "from sklearn.metrics import classification_report, f1_score\n",
    "\n",
    "\n",
    "# Convert labels to numeric\n",
    "from sklearn.preprocessing import LabelEncoder\n",
    "le = LabelEncoder()\n",
    "df[\"label_encoded\"] = le.fit_transform(df[\"label\"])\n",
    "\n",
    "# Set up TF-IDF\n",
    "vectorizer = TfidfVectorizer(max_features=3000, ngram_range=(1, 2))\n",
    "\n",
    "# Prepare data\n",
    "texts = df[\"sentence\"].values\n",
    "labels = df[\"label_encoded\"].values\n",
    "\n",
    "# Stratified K-Fold\n",
    "skf = StratifiedKFold(n_splits=5, shuffle=True, random_state=100)\n",
    "\n",
    "logreg_scores = []\n",
    "xgb_scores = []\n",
    "\n",
    "print(\"\\n===== Cross-Validation Results =====\")\n",
    "for fold, (train_idx, val_idx) in enumerate(skf.split(texts, labels)):\n",
    "    print(f\"\\nFold {fold + 1}\")\n",
    "\n",
    "    # Split data\n",
    "    X_train, X_val = texts[train_idx], texts[val_idx]\n",
    "    y_train, y_val = labels[train_idx], labels[val_idx]\n",
    "\n",
    "    # Fit TF-IDF on train, transform both\n",
    "    X_train_vec = vectorizer.fit_transform(X_train)\n",
    "    X_val_vec = vectorizer.transform(X_val)\n",
    "\n",
    "    # ---- Logistic Regression ----\n",
    "    logreg = LogisticRegression(class_weight='balanced', max_iter=1000)\n",
    "    logreg.fit(X_train_vec, y_train)\n",
    "    y_pred_lr = logreg.predict(X_val_vec)\n",
    "    score_lr = f1_score(y_val, y_pred_lr, average='macro')\n",
    "    logreg_scores.append(score_lr)\n",
    "    print(f\"Logistic Regression F1 (macro): {score_lr:.4f}\")\n",
    "\n",
    "    # ---- XGBoost ----\n",
    "    xgb = XGBClassifier(use_label_encoder=False, eval_metric='mlogloss')\n",
    "    xgb.fit(X_train_vec, y_train)\n",
    "    y_pred_xgb = xgb.predict(X_val_vec)\n",
    "    score_xgb = f1_score(y_val, y_pred_xgb, average='macro')\n",
    "    xgb_scores.append(score_xgb)\n",
    "    print(f\"XGBoost F1 (macro): {score_xgb:.4f}\")\n",
    "\n",
    "# Summary\n",
    "print(\"\\n===== Average Scores =====\")\n",
    "print(f\"Logistic Regression avg F1 (macro): {np.mean(logreg_scores):.4f}\")\n",
    "print(f\"XGBoost avg F1 (macro): {np.mean(xgb_scores):.4f}\")\n"
   ]
  },
  {
   "cell_type": "code",
   "execution_count": 6,
   "metadata": {},
   "outputs": [
    {
     "name": "stdout",
     "output_type": "stream",
     "text": [
      "Fold 1 - F1 Macro: 0.9148\n",
      "Fold 2 - F1 Macro: 0.8547\n",
      "Fold 3 - F1 Macro: 0.8639\n",
      "Fold 4 - F1 Macro: 0.8983\n",
      "Fold 5 - F1 Macro: 0.9330\n",
      "\n",
      "✅ Average F1 Macro: 0.8929\n"
     ]
    }
   ],
   "source": [
    "import openai\n",
    "from tqdm import tqdm\n",
    "\n",
    "# === Replace with your OpenAI key ===\n",
    "openai.api_key = \"sk-svcacct-XoDm82FIvbsPpvMa1cHNvQ6jHvCKZ-x6pERpSKy68fspNGVPewiDjtSZkC1ge75gXalT3BlbkFJhmLZ82yo42HAo2sP3mkiwV8crramxS7FkX63xI1w7PvBehiBTphZGHD7xHOVMveVJEgA\"\n",
    "\n",
    "labels = df['label'].astype('category').cat.codes  \n",
    "\n",
    "# === Helper function to get embeddings ===\n",
    "def get_openai_embeddings(texts, model=\"text-embedding-3-small\", batch_size=20):\n",
    "    all_embeddings = []\n",
    "    for i in tqdm(range(0, len(texts), batch_size)):\n",
    "        batch = texts[i:i+batch_size]\n",
    "        response = openai.embeddings.create(input=batch, model=model)\n",
    "        embeddings = [d.embedding for d in response.data]\n",
    "        all_embeddings.extend(embeddings)\n",
    "    return np.array(all_embeddings)\n",
    "\n",
    "# === Get or load embeddings ===\n",
    "try:\n",
    "    X = np.load(\"openai_embeddings.npy\")\n",
    "except:\n",
    "    X = get_openai_embeddings(texts)\n",
    "    np.save(\"openai_embeddings.npy\", X)\n",
    "\n",
    "y = labels.values\n",
    "\n",
    "# === Stratified K-Fold Cross Validation ===\n",
    "skf = StratifiedKFold(n_splits=5, shuffle=True, random_state=100)\n",
    "\n",
    "f1_scores = []\n",
    "\n",
    "for fold, (train_idx, val_idx) in enumerate(skf.split(X, y), 1):\n",
    "    X_train, X_val = X[train_idx], X[val_idx]\n",
    "    y_train, y_val = y[train_idx], y[val_idx]\n",
    "    \n",
    "    clf = LogisticRegression(max_iter=1000, class_weight=\"balanced\")\n",
    "    clf.fit(X_train, y_train)\n",
    "    \n",
    "    preds = clf.predict(X_val)\n",
    "    f1 = f1_score(y_val, preds, average='macro')\n",
    "    print(f\"Fold {fold} - F1 Macro: {f1:.4f}\")\n",
    "    f1_scores.append(f1)\n",
    "\n",
    "print(f\"\\n✅ Average F1 Macro: {np.mean(f1_scores):.4f}\")\n"
   ]
  },
  {
   "cell_type": "code",
   "execution_count": 7,
   "metadata": {},
   "outputs": [
    {
     "data": {
      "image/png": "[encoded data removed]",
      "text/plain": [
       "<Figure size 1400x1200 with 2 Axes>"
      ]
     },
     "metadata": {},
     "output_type": "display_data"
    },
    {
     "name": "stdout",
     "output_type": "stream",
     "text": [
      "\n",
      "🔍 Classification Report:\n",
      "                       precision    recall  f1-score   support\n",
      "\n",
      "100_NIGHT_TRIAL_OFFER      1.000     0.833     0.909        18\n",
      "   ABOUT_SOF_MATTRESS      0.588     0.909     0.714        11\n",
      "         CANCEL_ORDER      1.000     0.900     0.947        10\n",
      "        CHECK_PINCODE      0.909     1.000     0.952        10\n",
      "                  COD      1.000     0.833     0.909        12\n",
      "           COMPARISON      0.875     0.636     0.737        11\n",
      "    DELAY_IN_DELIVERY      0.909     0.909     0.909        11\n",
      "         DISTRIBUTORS      0.969     0.912     0.939        34\n",
      "                  EMI      0.926     1.000     0.962        25\n",
      "        ERGO_FEATURES      0.750     0.818     0.783        11\n",
      "             LEAD_GEN      0.952     0.952     0.952        21\n",
      "        MATTRESS_COST      1.000     0.864     0.927        22\n",
      "               OFFERS      0.909     1.000     0.952        10\n",
      "         ORDER_STATUS      0.870     0.952     0.909        21\n",
      "       ORTHO_FEATURES      0.938     0.882     0.909        17\n",
      "              PILLOWS      1.000     1.000     1.000        10\n",
      "     PRODUCT_VARIANTS      0.800     0.762     0.780        21\n",
      "      RETURN_EXCHANGE      0.929     0.929     0.929        14\n",
      "   SIZE_CUSTOMIZATION      0.727     0.889     0.800         9\n",
      "             WARRANTY      1.000     1.000     1.000        10\n",
      "   WHAT_SIZE_TO_ORDER      0.905     0.950     0.927        20\n",
      "\n",
      "             accuracy                          0.902       328\n",
      "            macro avg      0.903     0.901     0.897       328\n",
      "         weighted avg      0.912     0.902     0.904       328\n",
      "\n"
     ]
    }
   ],
   "source": [
    "### Error Analysis\n",
    "\n",
    "from sklearn.metrics import f1_score, confusion_matrix, classification_report\n",
    "import matplotlib.pyplot as plt\n",
    "import seaborn as sns\n",
    "\n",
    "# === Load your dataset ===\n",
    "\n",
    "label_encoder = df['label'].astype('category')\n",
    "labels = label_encoder.cat.codes\n",
    "label_names = label_encoder.cat.categories.tolist()\n",
    "\n",
    "\n",
    "\n",
    "try:\n",
    "    X = np.load(\"openai_embeddings.npy\")\n",
    "except:\n",
    "    X = get_openai_embeddings(texts)\n",
    "    np.save(\"openai_embeddings.npy\", X)\n",
    "\n",
    "y = labels.values\n",
    "\n",
    "# === Stratified K-Fold + Collecting Predictions for Confusion Matrix ===\n",
    "skf = StratifiedKFold(n_splits=5, shuffle=True, random_state=100)\n",
    "\n",
    "y_true_all = []\n",
    "y_pred_all = []\n",
    "\n",
    "for train_idx, val_idx in skf.split(X, y):\n",
    "    X_train, X_val = X[train_idx], X[val_idx]\n",
    "    y_train, y_val = y[train_idx], y[val_idx]\n",
    "\n",
    "    clf = LogisticRegression(max_iter=1000, class_weight=\"balanced\")\n",
    "    clf.fit(X_train, y_train)\n",
    "\n",
    "    preds = clf.predict(X_val)\n",
    "\n",
    "    y_true_all.extend(y_val)\n",
    "    y_pred_all.extend(preds)\n",
    "\n",
    "# === Confusion Matrix ===\n",
    "cm = confusion_matrix(y_true_all, y_pred_all)\n",
    "plt.figure(figsize=(14, 12))\n",
    "sns.heatmap(cm, xticklabels=label_names, yticklabels=label_names,\n",
    "            annot=True, fmt='d', cmap='Blues')\n",
    "plt.xlabel(\"Predicted\")\n",
    "plt.ylabel(\"True\")\n",
    "plt.title(\"Confusion Matrix - OpenAI Embeddings + Logistic Regression\")\n",
    "plt.xticks(rotation=90)\n",
    "plt.yticks(rotation=0)\n",
    "plt.tight_layout()\n",
    "plt.show()\n",
    "\n",
    "# === Classification Report for per-label F1 ===\n",
    "report = classification_report(y_true_all, y_pred_all, target_names=label_names, digits=3)\n",
    "print(\"\\n🔍 Classification Report:\")\n",
    "print(report)\n"
   ]
  },
  {
   "cell_type": "code",
   "execution_count": 16,
   "metadata": {},
   "outputs": [
    {
     "name": "stdout",
     "output_type": "stream",
     "text": [
      "Using device: mps\n"
     ]
    },
    {
     "name": "stderr",
     "output_type": "stream",
     "text": [
      "Some weights of DistilBertForSequenceClassification were not initialized from the model checkpoint at distilbert-base-uncased and are newly initialized: ['classifier.bias', 'classifier.weight', 'pre_classifier.bias', 'pre_classifier.weight']\n",
      "You should probably TRAIN this model on a down-stream task to be able to use it for predictions and inference.\n"
     ]
    },
    {
     "data": {
      "application/vnd.jupyter.widget-view+json": {
       "model_id": "78ccbc093c23444d939b0166324d4a27",
       "version_major": 2,
       "version_minor": 0
      },
      "text/plain": [
       "Map:   0%|          | 0/262 [00:00<?, ? examples/s]"
      ]
     },
     "metadata": {},
     "output_type": "display_data"
    },
    {
     "data": {
      "application/vnd.jupyter.widget-view+json": {
       "model_id": "669c4e5dafc64d0bbe6b2294a8ae5942",
       "version_major": 2,
       "version_minor": 0
      },
      "text/plain": [
       "Map:   0%|          | 0/66 [00:00<?, ? examples/s]"
      ]
     },
     "metadata": {},
     "output_type": "display_data"
    },
    {
     "name": "stderr",
     "output_type": "stream",
     "text": [
      "/var/folders/l3/tmswb2bs135240wb51dlgl3w0000gn/T/ipykernel_10158/71660183.py:65: FutureWarning: `tokenizer` is deprecated and will be removed in version 5.0.0 for `Trainer.__init__`. Use `processing_class` instead.\n",
      "  trainer = Trainer(\n"
     ]
    },
    {
     "data": {
      "text/html": [
       "\n",
       "    <div>\n",
       "      \n",
       "      <progress value='330' max='330' style='width:300px; height:20px; vertical-align: middle;'></progress>\n",
       "      [330/330 06:30, Epoch 10/10]\n",
       "    </div>\n",
       "    <table border=\"1\" class=\"dataframe\">\n",
       "  <thead>\n",
       " <tr style=\"text-align: left;\">\n",
       "      <th>Epoch</th>\n",
       "      <th>Training Loss</th>\n",
       "      <th>Validation Loss</th>\n",
       "      <th>Accuracy</th>\n",
       "      <th>F1 Macro</th>\n",
       "    </tr>\n",
       "  </thead>\n",
       "  <tbody>\n",
       "    <tr>\n",
       "      <td>1</td>\n",
       "      <td>3.042200</td>\n",
       "      <td>2.966183</td>\n",
       "      <td>0.196970</td>\n",
       "      <td>0.083401</td>\n",
       "    </tr>\n",
       "    <tr>\n",
       "      <td>2</td>\n",
       "      <td>2.798300</td>\n",
       "      <td>2.679343</td>\n",
       "      <td>0.378788</td>\n",
       "      <td>0.288773</td>\n",
       "    </tr>\n",
       "    <tr>\n",
       "      <td>3</td>\n",
       "      <td>2.500500</td>\n",
       "      <td>2.371054</td>\n",
       "      <td>0.651515</td>\n",
       "      <td>0.551582</td>\n",
       "    </tr>\n",
       "    <tr>\n",
       "      <td>4</td>\n",
       "      <td>2.178700</td>\n",
       "      <td>2.081453</td>\n",
       "      <td>0.712121</td>\n",
       "      <td>0.589661</td>\n",
       "    </tr>\n",
       "    <tr>\n",
       "      <td>5</td>\n",
       "      <td>1.932200</td>\n",
       "      <td>1.859301</td>\n",
       "      <td>0.727273</td>\n",
       "      <td>0.592342</td>\n",
       "    </tr>\n",
       "    <tr>\n",
       "      <td>6</td>\n",
       "      <td>1.690500</td>\n",
       "      <td>1.670092</td>\n",
       "      <td>0.757576</td>\n",
       "      <td>0.644388</td>\n",
       "    </tr>\n",
       "    <tr>\n",
       "      <td>7</td>\n",
       "      <td>1.528300</td>\n",
       "      <td>1.539665</td>\n",
       "      <td>0.757576</td>\n",
       "      <td>0.647274</td>\n",
       "    </tr>\n",
       "    <tr>\n",
       "      <td>8</td>\n",
       "      <td>1.421900</td>\n",
       "      <td>1.447705</td>\n",
       "      <td>0.772727</td>\n",
       "      <td>0.677962</td>\n",
       "    </tr>\n",
       "    <tr>\n",
       "      <td>9</td>\n",
       "      <td>1.336500</td>\n",
       "      <td>1.389586</td>\n",
       "      <td>0.772727</td>\n",
       "      <td>0.677962</td>\n",
       "    </tr>\n",
       "    <tr>\n",
       "      <td>10</td>\n",
       "      <td>1.169600</td>\n",
       "      <td>1.372363</td>\n",
       "      <td>0.772727</td>\n",
       "      <td>0.677962</td>\n",
       "    </tr>\n",
       "  </tbody>\n",
       "</table><p>"
      ],
      "text/plain": [
       "<IPython.core.display.HTML object>"
      ]
     },
     "metadata": {},
     "output_type": "display_data"
    },
    {
     "data": {
      "text/html": [
       "\n",
       "    <div>\n",
       "      \n",
       "      <progress value='9' max='9' style='width:300px; height:20px; vertical-align: middle;'></progress>\n",
       "      [9/9 00:01]\n",
       "    </div>\n",
       "    "
      ],
      "text/plain": [
       "<IPython.core.display.HTML object>"
      ]
     },
     "metadata": {},
     "output_type": "display_data"
    },
    {
     "name": "stdout",
     "output_type": "stream",
     "text": [
      "Evaluation results: {'eval_loss': 1.3723628520965576, 'eval_accuracy': 0.7727272727272727, 'eval_f1_macro': 0.6779615886758744, 'eval_runtime': 2.2552, 'eval_samples_per_second': 29.266, 'eval_steps_per_second': 3.991, 'epoch': 10.0}\n"
     ]
    }
   ],
   "source": [
    "import torch\n",
    "from transformers import AutoTokenizer, AutoModelForSequenceClassification, Trainer, TrainingArguments\n",
    "from datasets import load_dataset, Dataset\n",
    "from sklearn.metrics import accuracy_score, f1_score\n",
    "from sklearn.model_selection import train_test_split\n",
    "device = torch.device(\"mps\" if torch.backends.mps.is_available() else \"cpu\")\n",
    "print(f\"Using device: {device}\")\n",
    "\n",
    "# Load the MiniLM v6 model and tokenizer from Hugging Face\n",
    "model_name = \"distilbert-base-uncased\"\n",
    "\n",
    "# Initialize tokenizer and model\n",
    "\n",
    "\n",
    "tokenizer = AutoTokenizer.from_pretrained(model_name)\n",
    "model = AutoModelForSequenceClassification.from_pretrained(model_name, num_labels=df[\"label\"].nunique())\n",
    "\n",
    "train_df, val_df = train_test_split(df, test_size=0.2, stratify=df['label'], random_state=100)\n",
    "\n",
    "train_df.drop(columns = [\"label\"], axis = 1, inplace = True)\n",
    "val_df.drop(columns = [\"label\"], axis = 1, inplace = True)\n",
    "train_df.rename(columns = {\"label_encoded\": \"label\"}, inplace = True)\n",
    "val_df.rename(columns = {\"label_encoded\": \"label\"}, inplace = True)\n",
    "\n",
    "\n",
    "train_dataset = Dataset.from_pandas(train_df)\n",
    "eval_dataset = Dataset.from_pandas(val_df)\n",
    "\n",
    "# Tokenize the datasets\n",
    "def tokenize_function(examples):\n",
    "    return tokenizer(examples[\"sentence\"], padding=\"max_length\", truncation=True)\n",
    "\n",
    "train_dataset = train_dataset.map(tokenize_function, batched=True)\n",
    "eval_dataset = eval_dataset.map(tokenize_function, batched=True)\n",
    "\n",
    "# Set format for PyTorch\n",
    "train_dataset.set_format(type=\"torch\", columns=[\"input_ids\", \"attention_mask\", \"label\"])\n",
    "eval_dataset.set_format(type=\"torch\", columns=[\"input_ids\", \"attention_mask\", \"label\"])\n",
    "\n",
    "# Define a custom compute_metrics function\n",
    "def compute_metrics(p):\n",
    "    preds = np.argmax(p.predictions, axis=1)\n",
    "    labels = p.label_ids\n",
    "    f1 = f1_score(labels, preds, average='macro')\n",
    "    accuracy = accuracy_score(labels, preds)\n",
    "    return {\"accuracy\": accuracy, \"f1_macro\": f1}\n",
    "\n",
    "# Define training arguments\n",
    "training_args = TrainingArguments(\n",
    "    output_dir=\"./results\",  # Output directory for model checkpoints\n",
    "    eval_strategy=\"epoch\",  # Evaluate after each epoch\n",
    "    learning_rate=2e-5,\n",
    "    per_device_train_batch_size=8,  # Adjust based on available memory\n",
    "    per_device_eval_batch_size=8,\n",
    "    num_train_epochs=10,\n",
    "    weight_decay=0.01,\n",
    "    logging_dir=\"./logs\",  # Directory for logs\n",
    "    logging_steps=10,\n",
    "    save_strategy=\"epoch\",  # Save model checkpoint every 500 steps\n",
    "    load_best_model_at_end=True,  # Load the best model based on evaluation\n",
    "    report_to=\"none\",  # Disable reporting to external services like wandb\n",
    ")\n",
    "\n",
    "# Initialize the Trainer\n",
    "trainer = Trainer(\n",
    "    model=model,\n",
    "    args=training_args,\n",
    "    train_dataset=train_dataset,\n",
    "    eval_dataset=eval_dataset,\n",
    "    tokenizer=tokenizer,\n",
    "    compute_metrics=compute_metrics,\n",
    ")\n",
    "\n",
    "# Train the model\n",
    "trainer.train()\n",
    "\n",
    "# Evaluate the model\n",
    "eval_results = trainer.evaluate()\n",
    "print(f\"Evaluation results: {eval_results}\")\n"
   ]
  },
  {
   "cell_type": "code",
   "execution_count": 14,
   "metadata": {},
   "outputs": [
    {
     "data": {
      "text/html": [
       "<div>\n",
       "<style scoped>\n",
       "    .dataframe tbody tr th:only-of-type {\n",
       "        vertical-align: middle;\n",
       "    }\n",
       "\n",
       "    .dataframe tbody tr th {\n",
       "        vertical-align: top;\n",
       "    }\n",
       "\n",
       "    .dataframe thead th {\n",
       "        text-align: right;\n",
       "    }\n",
       "</style>\n",
       "<table border=\"1\" class=\"dataframe\">\n",
       "  <thead>\n",
       "    <tr style=\"text-align: right;\">\n",
       "      <th></th>\n",
       "      <th>sentence</th>\n",
       "      <th>label</th>\n",
       "    </tr>\n",
       "  </thead>\n",
       "  <tbody>\n",
       "    <tr>\n",
       "      <th>117</th>\n",
       "      <td>Length</td>\n",
       "      <td>20</td>\n",
       "    </tr>\n",
       "    <tr>\n",
       "      <th>62</th>\n",
       "      <td>What is responsive foam</td>\n",
       "      <td>9</td>\n",
       "    </tr>\n",
       "    <tr>\n",
       "      <th>86</th>\n",
       "      <td>How does the 100 night trial work</td>\n",
       "      <td>0</td>\n",
       "    </tr>\n",
       "    <tr>\n",
       "      <th>225</th>\n",
       "      <td>What are the SOF mattress products</td>\n",
       "      <td>16</td>\n",
       "    </tr>\n",
       "    <tr>\n",
       "      <th>81</th>\n",
       "      <td>Tell me about the product warranty</td>\n",
       "      <td>19</td>\n",
       "    </tr>\n",
       "    <tr>\n",
       "      <th>...</th>\n",
       "      <td>...</td>\n",
       "      <td>...</td>\n",
       "    </tr>\n",
       "    <tr>\n",
       "      <th>5</th>\n",
       "      <td>I want it on 0% interest</td>\n",
       "      <td>8</td>\n",
       "    </tr>\n",
       "    <tr>\n",
       "      <th>90</th>\n",
       "      <td>100 night trial</td>\n",
       "      <td>0</td>\n",
       "    </tr>\n",
       "    <tr>\n",
       "      <th>316</th>\n",
       "      <td>Can I also have pillows</td>\n",
       "      <td>15</td>\n",
       "    </tr>\n",
       "    <tr>\n",
       "      <th>142</th>\n",
       "      <td>I want to buy this</td>\n",
       "      <td>10</td>\n",
       "    </tr>\n",
       "    <tr>\n",
       "      <th>215</th>\n",
       "      <td>What will be the price</td>\n",
       "      <td>11</td>\n",
       "    </tr>\n",
       "  </tbody>\n",
       "</table>\n",
       "<p>262 rows × 2 columns</p>\n",
       "</div>"
      ],
      "text/plain": [
       "                               sentence  label\n",
       "117                              Length     20\n",
       "62              What is responsive foam      9\n",
       "86    How does the 100 night trial work      0\n",
       "225  What are the SOF mattress products     16\n",
       "81   Tell me about the product warranty     19\n",
       "..                                  ...    ...\n",
       "5              I want it on 0% interest      8\n",
       "90                      100 night trial      0\n",
       "316             Can I also have pillows     15\n",
       "142                  I want to buy this     10\n",
       "215              What will be the price     11\n",
       "\n",
       "[262 rows x 2 columns]"
      ]
     },
     "execution_count": 14,
     "metadata": {},
     "output_type": "execute_result"
    }
   ],
   "source": [
    "train_df"
   ]
  },
  {
   "cell_type": "code",
   "execution_count": null,
   "metadata": {},
   "outputs": [],
   "source": []
  }
 ],
 "metadata": {
  "kernelspec": {
   "display_name": "Python (tifin)",
   "language": "python",
   "name": "tifin"
  },
  "language_info": {
   "codemirror_mode": {
    "name": "ipython",
    "version": 3
   },
   "file_extension": ".py",
   "mimetype": "text/x-python",
   "name": "python",
   "nbconvert_exporter": "python",
   "pygments_lexer": "ipython3",
   "version": "3.11.3"
  }
 },
 "nbformat": 4,
 "nbformat_minor": 2
}
