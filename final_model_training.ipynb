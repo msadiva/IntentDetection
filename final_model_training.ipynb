{
 "cells": [
  {
   "cell_type": "code",
   "execution_count": 1,
   "metadata": {},
   "outputs": [],
   "source": [
    "import os\n",
    "import openai\n",
    "import pandas as pd\n",
    "from sklearn.linear_model import LogisticRegression\n",
    "from sklearn.preprocessing import LabelEncoder\n",
    "from sklearn.pipeline import make_pipeline\n",
    "from sklearn.metrics import classification_report\n",
    "from joblib import dump\n",
    "from tqdm import tqdm\n"
   ]
  },
  {
   "cell_type": "code",
   "execution_count": 4,
   "metadata": {},
   "outputs": [
    {
     "name": "stdout",
     "output_type": "stream",
     "text": [
      "Generating embeddings...\n"
     ]
    },
    {
     "name": "stderr",
     "output_type": "stream",
     "text": [
      "100%|██████████| 328/328 [03:12<00:00,  1.71it/s]"
     ]
    },
    {
     "name": "stdout",
     "output_type": "stream",
     "text": [
      "Training model...\n",
      "✅ Model and encoder saved!\n"
     ]
    },
    {
     "name": "stderr",
     "output_type": "stream",
     "text": [
      "\n"
     ]
    }
   ],
   "source": [
    "API_KEY = \"sk-svcacct-XoDm82FIvbsPpvMa1cHNvQ6jHvCKZ-x6pERpSKy68fspNGVPewiDjtSZkC1ge75gXalT3BlbkFJhmLZ82yo42HAo2sP3mkiwV8crramxS7FkX63xI1w7PvBehiBTphZGHD7xHOVMveVJEgA\"\n",
    "\n",
    "client = openai.OpenAI(api_key=API_KEY)\n",
    "\n",
    "# -------- Config --------\n",
    "EMBEDDING_MODEL = \"text-embedding-3-small\"\n",
    "DATA_PATH = \"sofmattress_train.csv\"  \n",
    "MODEL_PATH = \"model.joblib\"\n",
    "ENCODER_PATH = \"label_encoder.joblib\"\n",
    "\n",
    "# -------- Helper to get embeddings --------\n",
    "def get_embedding(text: str, model=EMBEDDING_MODEL) -> list:\n",
    "    response = client.embeddings.create(\n",
    "        input=[text],\n",
    "        model=model\n",
    "    )\n",
    "    return response.data[0].embedding\n",
    "\n",
    "# -------- Load and process dataset --------\n",
    "df = pd.read_csv(DATA_PATH)\n",
    "\n",
    "# Encode labels\n",
    "label_encoder = LabelEncoder()\n",
    "df['label_encoded'] = label_encoder.fit_transform(df['label'])\n",
    "\n",
    "# Get embeddings\n",
    "print(\"Generating embeddings...\")\n",
    "embeddings = []\n",
    "for text in tqdm(df[\"sentence\"].tolist()):\n",
    "    embeddings.append(get_embedding(text))\n",
    "\n",
    "# Train model\n",
    "print(\"Training model...\")\n",
    "clf = LogisticRegression(max_iter=1000, class_weight=\"balanced\")\n",
    "clf.fit(embeddings, df[\"label_encoded\"])\n",
    "\n",
    "# Save model and label encoder\n",
    "dump(clf, MODEL_PATH)\n",
    "dump(label_encoder, ENCODER_PATH)\n",
    "\n",
    "print(\"✅ Model and encoder saved!\")"
   ]
  },
  {
   "cell_type": "code",
   "execution_count": 5,
   "metadata": {},
   "outputs": [],
   "source": [
    "import joblib\n",
    "clf = joblib.load(\"model.joblib\")\n",
    "label_encoder = joblib.load(\"label_encoder.joblib\")\n"
   ]
  },
  {
   "cell_type": "code",
   "execution_count": 6,
   "metadata": {},
   "outputs": [
    {
     "name": "stdout",
     "output_type": "stream",
     "text": [
      "2.2.5\n"
     ]
    }
   ],
   "source": [
    "import numpy\n",
    "print(numpy.__version__)"
   ]
  },
  {
   "cell_type": "code",
   "execution_count": null,
   "metadata": {},
   "outputs": [],
   "source": []
  }
 ],
 "metadata": {
  "kernelspec": {
   "display_name": "Python (tifin)",
   "language": "python",
   "name": "tifin"
  },
  "language_info": {
   "codemirror_mode": {
    "name": "ipython",
    "version": 3
   },
   "file_extension": ".py",
   "mimetype": "text/x-python",
   "name": "python",
   "nbconvert_exporter": "python",
   "pygments_lexer": "ipython3",
   "version": "3.11.3"
  }
 },
 "nbformat": 4,
 "nbformat_minor": 2
}
